{
 "cells": [
  {
   "cell_type": "markdown",
   "id": "83b6b414",
   "metadata": {},
   "source": [
    "# [Title](https://medium.com/swlh/how-to-build-simple-recommender-systems-in-python-647e5bcd78bd)"
   ]
  },
  {
   "cell_type": "code",
   "execution_count": 1,
   "id": "e66e025b",
   "metadata": {},
   "outputs": [],
   "source": [
    "#Dataframe manipulation library\n",
    "import pandas as pd\n",
    "#Math functions, we’ll only need the sqrt function so let’s import only that\n",
    "from math import sqrt\n",
    "import numpy as np\n",
    "import matplotlib.pyplot as plt\n",
    "%matplotlib inline"
   ]
  },
  {
   "cell_type": "code",
   "execution_count": 2,
   "id": "435a6fd3",
   "metadata": {},
   "outputs": [
    {
     "ename": "SyntaxError",
     "evalue": "invalid character in identifier (4235008065.py, line 2)",
     "output_type": "error",
     "traceback": [
      "\u001b[0;36m  File \u001b[0;32m\"/var/folders/yw/tg_6z1t924gb72fhv7lmx5qh0000gn/T/ipykernel_22272/4235008065.py\"\u001b[0;36m, line \u001b[0;32m2\u001b[0m\n\u001b[0;31m    movies_df = pd.read_csv(‘movies.csv’)\u001b[0m\n\u001b[0m                                  ^\u001b[0m\n\u001b[0;31mSyntaxError\u001b[0m\u001b[0;31m:\u001b[0m invalid character in identifier\n"
     ]
    }
   ],
   "source": [
    "#Storing the movie information into a pandas dataframe\n",
    "movies_df = pd.read_csv(‘movies.csv’)\n",
    "#Storing the user information into a pandas dataframe\n",
    "ratings_df = pd.read_csv(‘ratings.csv’)"
   ]
  },
  {
   "cell_type": "code",
   "execution_count": null,
   "id": "8cac5314",
   "metadata": {},
   "outputs": [],
   "source": []
  }
 ],
 "metadata": {
  "kernelspec": {
   "display_name": "Python 3 (ipykernel)",
   "language": "python",
   "name": "python3"
  },
  "language_info": {
   "codemirror_mode": {
    "name": "ipython",
    "version": 3
   },
   "file_extension": ".py",
   "mimetype": "text/x-python",
   "name": "python",
   "nbconvert_exporter": "python",
   "pygments_lexer": "ipython3",
   "version": "3.8.11"
  }
 },
 "nbformat": 4,
 "nbformat_minor": 5
}
