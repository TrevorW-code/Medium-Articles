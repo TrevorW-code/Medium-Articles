{
 "cells": [
  {
   "cell_type": "code",
   "execution_count": 52,
   "id": "be08a1bf",
   "metadata": {},
   "outputs": [],
   "source": [
    "from selenium import webdriver\n",
    "from selenium.webdriver.support import expected_conditions as EC\n",
    "from selenium.webdriver.support.ui import WebDriverWait\n",
    "from selenium.webdriver.common.keys import Keys\n",
    "from selenium.webdriver.common.by import By\n",
    "from selenium.webdriver.chrome.options import Options\n",
    "from selenium.webdriver.support.select import Select\n",
    "\n",
    "import time"
   ]
  },
  {
   "cell_type": "code",
   "execution_count": 54,
   "id": "15f36d31",
   "metadata": {},
   "outputs": [
    {
     "name": "stderr",
     "output_type": "stream",
     "text": [
      "<ipython-input-54-e7ffdb9eb98b>:3: DeprecationWarning: executable_path has been deprecated, please pass in a Service object\n",
      "  driver = webdriver.Chrome(executable_path=\"/Users/trevor/Desktop/chromedriver\")\n"
     ]
    }
   ],
   "source": [
    "driver = webdriver.Chrome(executable_path=PATH)\n",
    "driver.get(\"https://www.aritzia.com/us/en/default?country=us\")\n",
    "overlay = driver.find_element(By.CLASS_NAME,\"ui-widget-overlay\")\n",
    "overlay.click()\n",
    "search_box = driver.find_element(By.NAME, \"q\")\n",
    "search_box.clear()\n",
    "search_box.send_keys(\"Skirt\" + Keys.ENTER)\n",
    "time.sleep(20)\n",
    "driver.quit()\n",
    "\n",
    "# original_window = driver.current_window_handle\n",
    "# driver.switch_to.new_window('tab')\n",
    "# driver.switch_to.window(original_window)"
   ]
  }
 ],
 "metadata": {
  "kernelspec": {
   "display_name": "Python 3",
   "language": "python",
   "name": "python3"
  },
  "language_info": {
   "codemirror_mode": {
    "name": "ipython",
    "version": 3
   },
   "file_extension": ".py",
   "mimetype": "text/x-python",
   "name": "python",
   "nbconvert_exporter": "python",
   "pygments_lexer": "ipython3",
   "version": "3.8.11"
  }
 },
 "nbformat": 4,
 "nbformat_minor": 5
}
